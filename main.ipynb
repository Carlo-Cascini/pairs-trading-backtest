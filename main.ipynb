{
 "cells": [
  {
   "cell_type": "raw",
   "id": "785cd5d4",
   "metadata": {},
   "source": [
    "---\n",
    "title: \"R Notebook\"\n",
    "output: \n",
    "  pdf_document: \n",
    "    latex_engine: xelatex\n",
    "  html_document:\n",
    "    df_print: paged\n",
    "---"
   ]
  },
  {
   "cell_type": "code",
   "execution_count": null,
   "id": "c4d0c74c",
   "metadata": {
    "lines_to_next_cell": 2,
    "message": false,
    "warning": false
   },
   "outputs": [],
   "source": [
    "library(here)\n",
    "setwd(here::here())\n",
    "library(dplyr)\n",
    "library(ggplot2)\n",
    "library(tidyr)\n",
    "library(purrr)\n",
    "library(xts)\n",
    "output_file <- \"data/cleaned_etfs.csv\"\n",
    "df <- read.csv(output_file)\n",
    "df$Date <- as.Date(df[, 1])  \n",
    "data_xts <- xts(df[, -1], order.by = df$Date)"
   ]
  },
  {
   "cell_type": "code",
   "execution_count": null,
   "id": "0e3e3944",
   "metadata": {
    "eval": false,
    "message": false,
    "warning": false
   },
   "outputs": [],
   "source": [
    "source(\"src/stock_list.R\")\n",
    "source(\"src/generate_dataset.R\")\n",
    "begin_date <- as.Date(\"2010-01-01\")\n",
    "end_date <- as.Date(\"2024-05-01\")\n",
    "output_file <- \"data/cleaned_etfs.csv\"\n",
    "\n",
    "generate_dataset(stock_namelist, begin_date, end_date, output_file)"
   ]
  },
  {
   "cell_type": "code",
   "execution_count": null,
   "id": "96657bf0",
   "metadata": {
    "eval": false,
    "message": false,
    "warning": false
   },
   "outputs": [],
   "source": [
    "source(\"src/func_partial_ci.R\")\n",
    "# load csv created in the chunk above\n",
    "\n",
    "# Define the ticker you want to fit\n",
    "stock_tickers <- colnames(data_xts)\n",
    "\n",
    "# Crea le combinazioni di coppie da stimare\n",
    "stock_pairs <- combn(stock_tickers, 2, simplify = FALSE)\n",
    "\n",
    "# Parametri di rolling\n",
    "estimation_years <- 3\n",
    "rolling_step_months <- 6\n",
    "save_dir <- \"results/fit\"\n",
    "\n",
    "# Esegui il backtest rolling\n",
    "run_partial_ci_backtest(stock_pairs, data_xts, estimation_years, rolling_step_months, save_dir)"
   ]
  },
  {
   "cell_type": "code",
   "execution_count": null,
   "id": "0099c860",
   "metadata": {
    "lines_to_next_cell": 0,
    "message": false,
    "warning": false
   },
   "outputs": [],
   "source": [
    "source(\"src/filtering_func.R\")\n",
    "\n",
    "results_folder <- \"results/fit\"\n",
    "save_dir <- \"results/pairs\"\n",
    "\n",
    "# Filter parameters\n",
    "rho_min <- 0.9\n",
    "rho_max <- 0.98\n",
    "rsq_min <- 0.9\n",
    "loglik_max <- 0\n",
    "\n",
    "for (year in 2013:2024) {\n",
    "  for (half in c(\"H1\", \"H2\")) {\n",
    "    process_period(year, half,\n",
    "                   results_folder = results_folder,\n",
    "                   rho_min = rho_min,\n",
    "                   rho_max = rho_max,\n",
    "                   rsq_min = rsq_min,\n",
    "                   loglik_max = loglik_max,\n",
    "                   save_dir = save_dir)\n",
    "  }\n",
    "}\n"
   ]
  },
  {
   "cell_type": "code",
   "execution_count": null,
   "id": "9182f0b7",
   "metadata": {
    "lines_to_next_cell": 2,
    "message": false,
    "warning": false
   },
   "outputs": [],
   "source": [
    "\n",
    "pairs_dir <- \"results/pairs/\"\n",
    "\n",
    "#  list all the pairs\n",
    "pair_files <- list.files(pairs_dir, pattern = \"^pairs_.*\\\\.RData$\", full.names = TRUE)\n",
    "\n",
    "all_pairs <- list()\n",
    "\n",
    "for (file in pair_files) {\n",
    "  temp_env <- new.env()\n",
    "  load(file, envir = temp_env)\n",
    "  var_name <- ls(temp_env)[grepl(\"^pairs_\", ls(temp_env))]\n",
    "  pairs <- get(var_name, envir = temp_env)\n",
    "  all_pairs[[gsub(\"pairs_|\\\\.RData\", \"\", basename(file))]] <- pairs\n",
    "}\n",
    "\n",
    "# Rbind all the pairs in a unique dataset\n",
    "pairs_df <- do.call(rbind, lapply(names(all_pairs), function(period) {\n",
    "  do.call(rbind, lapply(all_pairs[[period]], function(pair) {\n",
    "    data.frame(period = period, stock_a = pair[1], stock_b = pair[2])\n",
    "  }))\n",
    "}))\n"
   ]
  },
  {
   "cell_type": "code",
   "execution_count": null,
   "id": "8ca72fd3",
   "metadata": {
    "warning": false
   },
   "outputs": [],
   "source": [
    "\n",
    "# Count the number of selected pairs for each period\n",
    "pair_counts <- pairs_df %>%\n",
    "  group_by(period) %>%\n",
    "  summarise(num_pairs = n())\n",
    "\n",
    "ggplot(pair_counts, aes(x = period, y = num_pairs)) +\n",
    "  geom_col(fill = \"steelblue\") +\n",
    "  theme_minimal() +\n",
    "  labs(title = \" Number of Selected Pairs per Period\",\n",
    "       x = \"Period\",\n",
    "       y = \"# Pairs\") +\n",
    "  theme(axis.text.x = element_text(angle = 45, hjust = 1))"
   ]
  },
  {
   "cell_type": "code",
   "execution_count": null,
   "id": "96053da0",
   "metadata": {
    "lines_to_next_cell": 2,
    "message": false,
    "warning": false
   },
   "outputs": [],
   "source": [
    "\n",
    "#  Crea nome univoco per ogni coppia (ordine alfabetico per evitare duplicati invertiti)\n",
    "pairs_df <- pairs_df %>%\n",
    "  mutate(pair = paste(pmin(stock_a, stock_b), pmax(stock_a, stock_b), sep = \" - \"))\n",
    "\n",
    "#  Conta le ricorrenze per ciascuna coppia\n",
    "top_pairs <- pairs_df %>%\n",
    "  count(pair, sort = TRUE) %>%\n",
    "  top_n(10, n)\n",
    "\n",
    "# ️ Grafico a barre\n",
    "ggplot(top_pairs, aes(x = reorder(pair, n), y = n)) +\n",
    "  geom_col(fill = \"darkorange\") +\n",
    "  coord_flip() +\n",
    "  theme_minimal() +\n",
    "  labs(title = \" Most Frequent PCI Pairs Across Periods\",\n",
    "       x = \"Pair\",\n",
    "       y = \"Number of Periods Cointegrated\")"
   ]
  },
  {
   "cell_type": "code",
   "execution_count": null,
   "id": "d28b8f8b",
   "metadata": {
    "message": false,
    "warning": false
   },
   "outputs": [],
   "source": [
    "source(\"src/plots_func.R\")\n",
    "\n",
    "walk(top_pairs$pair, function(p) {\n",
    "  tickers <- unlist(strsplit(p, \" - \"))\n",
    "  print(plot_pair_log_price_change(data_xts, tickers[1], tickers[2],\n",
    "                                   start_date = \"2014-01-01\", end_date = \"2024-01-01\"))\n",
    "})\n"
   ]
  },
  {
   "cell_type": "code",
   "execution_count": null,
   "id": "a19318c2",
   "metadata": {
    "lines_to_next_cell": 0,
    "message": false,
    "warning": false
   },
   "outputs": [],
   "source": []
  },
  {
   "cell_type": "markdown",
   "id": "0e18ad81",
   "metadata": {},
   "source": [
    "\n",
    "\n"
   ]
  },
  {
   "cell_type": "code",
   "execution_count": null,
   "id": "0218012b",
   "metadata": {
    "lines_to_next_cell": 0,
    "message": false,
    "warning": false
   },
   "outputs": [],
   "source": []
  },
  {
   "cell_type": "markdown",
   "id": "c306678c",
   "metadata": {},
   "source": [
    "\n",
    "\n"
   ]
  },
  {
   "cell_type": "code",
   "execution_count": null,
   "id": "812e6fdb",
   "metadata": {
    "lines_to_next_cell": 0,
    "message": false,
    "warning": false
   },
   "outputs": [],
   "source": []
  },
  {
   "cell_type": "markdown",
   "id": "3c0965ea",
   "metadata": {},
   "source": [
    "\n",
    "\n"
   ]
  },
  {
   "cell_type": "code",
   "execution_count": null,
   "id": "b3c22f1a",
   "metadata": {
    "lines_to_next_cell": 0,
    "message": false,
    "warning": false
   },
   "outputs": [],
   "source": []
  },
  {
   "cell_type": "markdown",
   "id": "b0f568f9",
   "metadata": {},
   "source": [
    "\n",
    "\n"
   ]
  },
  {
   "cell_type": "code",
   "execution_count": null,
   "id": "7ad5ab66",
   "metadata": {
    "lines_to_next_cell": 0,
    "message": false,
    "warning": false
   },
   "outputs": [],
   "source": []
  },
  {
   "cell_type": "markdown",
   "id": "e2c797f1",
   "metadata": {},
   "source": [
    "\n",
    "\n"
   ]
  },
  {
   "cell_type": "code",
   "execution_count": null,
   "id": "05c4ffd4",
   "metadata": {
    "lines_to_next_cell": 0,
    "message": false,
    "warning": false
   },
   "outputs": [],
   "source": []
  },
  {
   "cell_type": "markdown",
   "id": "173a294f",
   "metadata": {},
   "source": [
    "\n",
    "\n"
   ]
  },
  {
   "cell_type": "code",
   "execution_count": null,
   "id": "e9c9e888",
   "metadata": {
    "lines_to_next_cell": 0,
    "message": false,
    "warning": false
   },
   "outputs": [],
   "source": []
  },
  {
   "cell_type": "markdown",
   "id": "d47584d9",
   "metadata": {},
   "source": [
    "\n",
    "\n"
   ]
  },
  {
   "cell_type": "code",
   "execution_count": null,
   "id": "9a0459de",
   "metadata": {
    "lines_to_next_cell": 0,
    "message": false,
    "warning": false
   },
   "outputs": [],
   "source": []
  },
  {
   "cell_type": "markdown",
   "id": "7b39651d",
   "metadata": {},
   "source": [
    "\n",
    "\n"
   ]
  },
  {
   "cell_type": "code",
   "execution_count": null,
   "id": "198712b5",
   "metadata": {
    "lines_to_next_cell": 0,
    "message": false,
    "warning": false
   },
   "outputs": [],
   "source": []
  },
  {
   "cell_type": "markdown",
   "id": "47abccf9",
   "metadata": {},
   "source": [
    "\n",
    "\n"
   ]
  },
  {
   "cell_type": "code",
   "execution_count": null,
   "id": "d0401220",
   "metadata": {
    "message": false,
    "warning": false
   },
   "outputs": [],
   "source": []
  }
 ],
 "metadata": {
  "jupytext": {
   "cell_metadata_filter": "message,eval,warning,-all",
   "main_language": "R",
   "notebook_metadata_filter": "-all"
  }
 },
 "nbformat": 4,
 "nbformat_minor": 5
}
